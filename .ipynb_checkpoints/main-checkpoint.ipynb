{
 "cells": [
  {
   "cell_type": "code",
   "execution_count": 1,
   "id": "2711fb25-526e-417e-8a75-52969ef9af1e",
   "metadata": {},
   "outputs": [],
   "source": [
    "import requests\n",
    "from bs4 import BeautifulSoup\n",
    "import pandas as pd"
   ]
  },
  {
   "cell_type": "code",
   "execution_count": 2,
   "id": "7927ebf4-dd7b-49f1-9c39-33248f9e0b62",
   "metadata": {},
   "outputs": [],
   "source": [
    "def extract(page):\n",
    "    headers = {'user-agent': 'Mozilla/5.0 (Macintosh; Intel Mac OS X 10_15_7) AppleWebKit/537.36 (KHTML, like Gecko) Chrome/109.0.0.0 Safari/537.36'}\n",
    "    url = 'https://fr.indeed.com/jobs?q=data+analyst&l=Paris+%2875%29&start=(page)'\n",
    "    r = requests.get(url, headers)\n",
    "    soup = BeautifulSoup(r.content, 'html.parser')\n",
    "    return soup\n",
    "    "
   ]
  },
  {
   "cell_type": "markdown",
   "id": "3c7971fe-80c4-42b1-b006-4146f6e1556c",
   "metadata": {},
   "source": [
    "now we have to transform it in a file with an another function"
   ]
  },
  {
   "cell_type": "code",
   "execution_count": 3,
   "id": "f8bb6b26-d390-464a-9b90-45d11af646d3",
   "metadata": {},
   "outputs": [],
   "source": [
    "def transform(soup):\n",
    "    divs = soup.find_all('div', class_ = 'cardOutline')\n",
    "    for item in divs:\n",
    "        title = item.find('span', class_ = 'jobTitle').text.strip()\n",
    "        company = item.find('span', class_ = 'company').text.strip()\n",
    "        try:\n",
    "            salary = item.find('span', class_ = 'salaryText').text.strip()\n",
    "        except:\n",
    "                salary=''\n",
    "        summary = item.find('div', {'class' : 'summary'}).text.strip().replace('\\n','')"
   ]
  },
  {
   "cell_type": "markdown",
   "id": "e440ec73-3d4e-4003-8e3a-c74b870a8b83",
   "metadata": {},
   "source": [
    "now put everything as a list"
   ]
  },
  {
   "cell_type": "code",
   "execution_count": 119,
   "id": "372bc438-e860-4842-9201-7220278ac4bd",
   "metadata": {},
   "outputs": [
    {
     "ename": "NameError",
     "evalue": "name 'title' is not defined",
     "output_type": "error",
     "traceback": [
      "\u001b[0;31m---------------------------------------------------------------------------\u001b[0m",
      "\u001b[0;31mNameError\u001b[0m                                 Traceback (most recent call last)",
      "\u001b[0;32m<ipython-input-119-b51c183e19c0>\u001b[0m in \u001b[0;36m<module>\u001b[0;34m\u001b[0m\n\u001b[1;32m      1\u001b[0m job = {\n\u001b[0;32m----> 2\u001b[0;31m     \u001b[0;34m'title'\u001b[0m\u001b[0;34m:\u001b[0m \u001b[0mtitle\u001b[0m\u001b[0;34m,\u001b[0m\u001b[0;34m\u001b[0m\u001b[0;34m\u001b[0m\u001b[0m\n\u001b[0m\u001b[1;32m      3\u001b[0m     \u001b[0;34m'comapany'\u001b[0m\u001b[0;34m:\u001b[0m \u001b[0mcompany\u001b[0m\u001b[0;34m,\u001b[0m\u001b[0;34m\u001b[0m\u001b[0;34m\u001b[0m\u001b[0m\n\u001b[1;32m      4\u001b[0m     \u001b[0;34m'salary'\u001b[0m\u001b[0;34m:\u001b[0m \u001b[0msalary\u001b[0m\u001b[0;34m,\u001b[0m\u001b[0;34m\u001b[0m\u001b[0;34m\u001b[0m\u001b[0m\n\u001b[1;32m      5\u001b[0m     \u001b[0;34m'summary'\u001b[0m\u001b[0;34m:\u001b[0m \u001b[0msummary\u001b[0m\u001b[0;34m\u001b[0m\u001b[0;34m\u001b[0m\u001b[0m\n",
      "\u001b[0;31mNameError\u001b[0m: name 'title' is not defined"
     ]
    }
   ],
   "source": [
    "job = {\n",
    "    'title': title, \n",
    "    'comapany': company,\n",
    "    'salary': salary,\n",
    "    'summary': summary\n",
    "}\n",
    "joblist.append(job)\n",
    "return "
   ]
  },
  {
   "cell_type": "markdown",
   "id": "9c892f2d-7ff7-4ca1-b338-8625a6ecf572",
   "metadata": {},
   "source": [
    "Now append"
   ]
  },
  {
   "cell_type": "code",
   "execution_count": null,
   "id": "d53a8b91-3afe-49b0-8bb1-44360d1f2e1a",
   "metadata": {},
   "outputs": [],
   "source": [
    "joblist = []\n",
    "\n",
    "for i in range(0, 40, 10):"
   ]
  },
  {
   "cell_type": "code",
   "execution_count": 113,
   "id": "bab8a049-15d8-4ee7-a5bb-0933ef6ffc0c",
   "metadata": {},
   "outputs": [
    {
     "name": "stdout",
     "output_type": "stream",
     "text": [
      "[]\n"
     ]
    }
   ],
   "source": [
    "c = extract(0)\n",
    "\n",
    "print(joblist)\n"
   ]
  },
  {
   "cell_type": "markdown",
   "id": "17e91e35-768b-4de9-b6bb-ca816eb487ad",
   "metadata": {},
   "source": [
    "ensuite il faut mettre en dataframe\n"
   ]
  },
  {
   "cell_type": "code",
   "execution_count": null,
   "id": "8bb8f1fd-bbb6-44a1-bbf9-16da135be974",
   "metadata": {},
   "outputs": [],
   "source": [
    "df = pd.DataFrame(joblist)\n",
    "print(df.head())\n",
    "df.to_csv('jobs.csv')\n"
   ]
  }
 ],
 "metadata": {
  "kernelspec": {
   "display_name": "Python 3",
   "language": "python",
   "name": "python3"
  },
  "language_info": {
   "codemirror_mode": {
    "name": "ipython",
    "version": 3
   },
   "file_extension": ".py",
   "mimetype": "text/x-python",
   "name": "python",
   "nbconvert_exporter": "python",
   "pygments_lexer": "ipython3",
   "version": "3.8.8"
  }
 },
 "nbformat": 4,
 "nbformat_minor": 5
}
